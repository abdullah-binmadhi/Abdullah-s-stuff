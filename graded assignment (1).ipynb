{
 "cells": [
  {
   "cell_type": "markdown",
   "id": "1664bc18-5d42-4fdd-96f7-0c682948ffd6",
   "metadata": {},
   "source": [
    "## My Jupyter Notebook on IBM Watson Studio"
   ]
  },
  {
   "cell_type": "markdown",
   "id": "f8695df9-5262-40cb-8ffc-966fbc636368",
   "metadata": {},
   "source": [
    "### ABDULLAH FAISAL BIN MADHI\n",
    "My desire is to be a data scientist"
   ]
  },
  {
   "cell_type": "markdown",
   "id": "a9f86a3a-ae9f-49f3-ac3f-6ddb44134156",
   "metadata": {},
   "source": [
    "*im interested in data science because of the job security, salary, and potential growth*"
   ]
  },
  {
   "cell_type": "markdown",
   "id": "8599ad0c-54df-49b3-94c9-20e8cfef60e4",
   "metadata": {},
   "source": [
    "## This is a normal calculation "
   ]
  },
  {
   "cell_type": "code",
   "execution_count": 1,
   "id": "ed060e22-ba9d-4bd7-9f1c-3f760b1dc525",
   "metadata": {},
   "outputs": [
    {
     "data": {
      "text/plain": [
       "2"
      ]
     },
     "execution_count": 1,
     "metadata": {},
     "output_type": "execute_result"
    }
   ],
   "source": [
    "1+1"
   ]
  },
  {
   "cell_type": "markdown",
   "id": "6ee605a9-4c48-4586-a45c-370015c884c4",
   "metadata": {},
   "source": [
    "lists of things i like.\n",
    "1. cars\n",
    "2. watches\n",
    "3. gadgets\n",
    "\n",
    "bullet lists\n",
    "------------\n",
    "* cars\n",
    "* watches\n",
    "* gadgets"
   ]
  },
  {
   "cell_type": "code",
   "execution_count": null,
   "id": "26bdcffc-be17-4569-b8dc-5015ee57e91f",
   "metadata": {},
   "outputs": [],
   "source": []
  },
  {
   "cell_type": "markdown",
   "id": "c5117429-d94b-4deb-b4a8-300797b9de3d",
   "metadata": {},
   "source": [
    "|LIKES|\n",
    "-------\n",
    "|cars|\n",
    "|watches|\n",
    "|gadgets|"
   ]
  },
  {
   "cell_type": "markdown",
   "id": "c09a66c5-d55a-4a54-afca-7217a738efa9",
   "metadata": {},
   "source": [
    "## IMPRTANT\n",
    "### I cannot use watson cloud because it keeps sayin that watson cloud is not supported in my country. So please any advice from my peers will be nice."
   ]
  },
  {
   "cell_type": "code",
   "execution_count": null,
   "id": "ff254eb0-c218-4d92-bf8c-a5d1bbe8f31f",
   "metadata": {},
   "outputs": [],
   "source": []
  }
 ],
 "metadata": {
  "kernelspec": {
   "display_name": "Python 3",
   "language": "python",
   "name": "python3"
  },
  "language_info": {
   "codemirror_mode": {
    "name": "ipython",
    "version": 3
   },
   "file_extension": ".py",
   "mimetype": "text/x-python",
   "name": "python",
   "nbconvert_exporter": "python",
   "pygments_lexer": "ipython3",
   "version": "3.8.8"
  }
 },
 "nbformat": 4,
 "nbformat_minor": 5
}
